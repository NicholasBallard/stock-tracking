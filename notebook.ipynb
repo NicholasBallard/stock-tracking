{
 "cells": [
  {
   "cell_type": "code",
   "execution_count": 1,
   "metadata": {
    "collapsed": true
   },
   "outputs": [],
   "source": [
    "# use this notebook to test scrap code"
   ]
  },
  {
   "cell_type": "code",
   "execution_count": 16,
   "metadata": {
    "collapsed": false
   },
   "outputs": [
    {
     "data": {
      "text/plain": [
       "datetime.datetime(2016, 10, 1, 0, 0)"
      ]
     },
     "execution_count": 16,
     "metadata": {},
     "output_type": "execute_result"
    }
   ],
   "source": [
    "# 2 ways I know how to convert a string into datetime (besides just doing datetime.datetime(year, month, day))...\n",
    "# great resource ...\n",
    "# https://www.quora.com/Whats-the-easiest-way-to-make-a-datetime-object-from-a-string-formatting-as-time-in-Python\n",
    "\n",
    "# Method 1\n",
    "import datetime\n",
    "\n",
    "_format = \"%m-%d-%Y\"\n",
    "\n",
    "start_date = '10-01-2016'\n",
    "\n",
    "datetime.datetime.strptime( start_date , _format )\n",
    "\n",
    "# This I like. `datetime` is a built-in module."
   ]
  },
  {
   "cell_type": "code",
   "execution_count": 3,
   "metadata": {
    "collapsed": false,
    "scrolled": true
   },
   "outputs": [
    {
     "data": {
      "text/plain": [
       "datetime.datetime(2016, 10, 1, 0, 0)"
      ]
     },
     "execution_count": 3,
     "metadata": {},
     "output_type": "execute_result"
    }
   ],
   "source": [
    "# Method 2\n",
    "from dateutil.parser import parse\n",
    "\n",
    "start_date = '10-01-2016'\n",
    "\n",
    "parse(start_date)\n",
    "\n",
    "# More \"magical,\" but requires installing an external module."
   ]
  },
  {
   "cell_type": "code",
   "execution_count": 11,
   "metadata": {
    "collapsed": false
   },
   "outputs": [
    {
     "data": {
      "text/plain": [
       "'150.27'"
      ]
     },
     "execution_count": 11,
     "metadata": {},
     "output_type": "execute_result"
    }
   ],
   "source": [
    "'''\n",
    "https://stackoverflow.com/questions/15514593/importerror-no-module-named-when-trying-to-run-python-script/15622021#15622021\n",
    "This is why IPython isn't finding the yahoo_finance module, where code outside the notebook does.\n",
    "Can also set PYTHONPATH in Windows 10 as a new environment variable.\n",
    "'''\n",
    "import sys\n",
    "sys.path.append(r'c:\\Python36\\Lib\\site-packages\\\\')\n",
    "from yahoo_finance import Share\n",
    "\n",
    "Share('aapl').get_price()\n",
    "\n",
    "# works!"
   ]
  },
  {
   "cell_type": "code",
   "execution_count": null,
   "metadata": {
    "collapsed": false
   },
   "outputs": [],
   "source": [
    "# from yahoo_finance import Share\n",
    "import sys\n",
    "sys.path.append(r'c:\\Python36\\Lib\\site-packages\\\\')\n",
    "import pandas as pd\n",
    "import datetime\n",
    "\n",
    "portfolio = \\\n",
    "{\n",
    "    'dsx': 300,\n",
    "    'kr': 36\n",
    "}\n",
    "\n",
    "_format = \"%m-%d-%Y\"\n",
    "\n",
    "start_date = '10-01-2016'\n",
    "\n",
    "end_date = '07-23-2017'\n",
    "\n",
    "start_date = datetime.datetime.strptime( start_date , _format )\n",
    "\n",
    "end_date = datetime.datetime.strptime( end_date , _format )\n",
    "\n",
    "def history( stock_portfolio , start_date , end_date ):\n",
    "    date = start_date\n",
    "    historical = dict()\n",
    "    while date <= end_date:\n",
    "        day_change = 0\n",
    "        for company in portfolio:\n",
    "            close = float(Share(company).get_price())\n",
    "            previous = float(Share(company).get_prev_close())\n",
    "            change = close - previous\n",
    "            day_change += change\n",
    "        historical[datetime.datetime.strftime(date, _format)] = day_change\n",
    "#         TODO: Write `day_change` to price-tracker.txt as `date  , day_change r'\\n`\n",
    "#         date.strftime(\"%m-%d-%Y\") + \"\\t,\\t\" + day_change\n",
    "#         historical = pd.DataFrame(, columns=list('date', 'gain/loss'))\n",
    "        date += datetime.timedelta(days=1)\n",
    "\n",
    "history(portfolio, start_date, end_date)\n",
    "\n",
    "print(\"done\")"
   ]
  },
  {
   "cell_type": "code",
   "execution_count": null,
   "metadata": {
    "collapsed": true
   },
   "outputs": [],
   "source": [
    "import sys\n",
    "sys.path.append(r'c:\\Python36\\Lib\\site-packages\\\\')\n",
    "import pandas as pd\n",
    "import datetime\n",
    "\n",
    "portfolio = \\\n",
    "{\n",
    "    'dsx': 300,\n",
    "    'kr': 36\n",
    "}\n",
    "\n",
    "_format = \"%m-%d-%Y\"\n",
    "\n",
    "start_date = '10-01-2016'\n",
    "\n",
    "end_date = '07-23-2017'\n",
    "\n",
    "start_date = datetime.datetime.strptime( start_date , _format )\n",
    "\n",
    "end_date = datetime.datetime.strptime( end_date , _format )\n",
    "\n",
    "def get_history( portfolio , start_date , end_date ):\n",
    "    Share"
   ]
  },
  {
   "cell_type": "code",
   "execution_count": null,
   "metadata": {
    "collapsed": true
   },
   "outputs": [],
   "source": [
    "dsx = Share('dsx')\n",
    "dsx.get_historical('10-01-2016', '07-23-2017')"
   ]
  },
  {
   "cell_type": "code",
   "execution_count": 23,
   "metadata": {
    "collapsed": false
   },
   "outputs": [
    {
     "data": {
      "text/plain": [
       "datetime.datetime(2017, 7, 24, 22, 3, 8, 816474)"
      ]
     },
     "execution_count": 23,
     "metadata": {},
     "output_type": "execute_result"
    }
   ],
   "source": [
    "datetime.datetime.now() + datetime.timedelta(days=1)"
   ]
  }
 ],
 "metadata": {
  "kernelspec": {
   "display_name": "Python 3",
   "language": "python",
   "name": "python3"
  },
  "language_info": {
   "codemirror_mode": {
    "name": "ipython",
    "version": 3
   },
   "file_extension": ".py",
   "mimetype": "text/x-python",
   "name": "python",
   "nbconvert_exporter": "python",
   "pygments_lexer": "ipython3",
   "version": "3.6.0"
  }
 },
 "nbformat": 4,
 "nbformat_minor": 2
}
